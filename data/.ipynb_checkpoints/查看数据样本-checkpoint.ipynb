{
 "cells": [
  {
   "cell_type": "code",
   "execution_count": 2,
   "metadata": {
    "collapsed": true,
    "ExecuteTime": {
     "end_time": "2024-03-18T08:10:01.569759Z",
     "start_time": "2024-03-18T08:10:01.558846Z"
    }
   },
   "outputs": [
    {
     "name": "stdout",
     "output_type": "stream",
     "text": [
      "{\"question\": \"做了腰间盘穿丁手术后，用盐泡脚可以吗\", \"similar_question\": [\"经历了腰椎间盘手术之后，泡盐水脚是否适宜呢？\", \"腰间盘手术后，浸泡含盐的热水对脚部是否有益？\", \"在接受腰间盘手术治疗后，是否可以通过盐水泡脚来缓解不适？\", \"对于刚做完腰间盘手术的人来说，用盐水泡脚是否是个好主意？\", \"完成腰间盘手术后，盐水泡脚能否带来舒缓效果？\", \"在腰间盘手术恢复期，考虑用盐水泡脚是否恰当？\", \"腰间盘手术康复期间，盐水泡脚是否有助于恢复？\", \"经历腰间盘手术后，盐水泡脚是否对康复有益？\", \"腰间盘手术后，是否推荐以盐水泡脚作为一种康复方式？\", \"在腰间盘手术后，盐水泡脚是否适宜作为辅助恢复的手段？\"], \"answer\": \"问题分析：你好:你是由于身体出现了一些局部的腰部损伤这种情况应该进行调整的一般术后泡脚是可以的，不用担心。意见建议：治疗方案:你可以不知后注意休息，避免劳累过度就可以这种调整方法也可以住进你身体的一些嗯调理的啊！\"},\n",
      "\n"
     ]
    }
   ],
   "source": [
    "with open(\"samples.jsonl\", \"r\", encoding=\"utf-8\") as f:\n",
    "    # 逐行读取\n",
    "    for line in f:\n",
    "        # 解析每行的数据，并追加到列表中\n",
    "        print(line)\n",
    "        break"
   ]
  },
  {
   "cell_type": "code",
   "execution_count": null,
   "outputs": [],
   "source": [],
   "metadata": {
    "collapsed": false
   }
  }
 ],
 "metadata": {
  "kernelspec": {
   "display_name": "Python 3",
   "language": "python",
   "name": "python3"
  },
  "language_info": {
   "codemirror_mode": {
    "name": "ipython",
    "version": 2
   },
   "file_extension": ".py",
   "mimetype": "text/x-python",
   "name": "python",
   "nbconvert_exporter": "python",
   "pygments_lexer": "ipython2",
   "version": "2.7.6"
  }
 },
 "nbformat": 4,
 "nbformat_minor": 0
}
