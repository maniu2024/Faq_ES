{
 "cells": [
  {
   "cell_type": "code",
   "execution_count": 1,
   "metadata": {
    "ExecuteTime": {
     "end_time": "2024-03-18T08:10:01.569759Z",
     "start_time": "2024-03-18T08:10:01.558846Z"
    }
   },
   "outputs": [
    {
     "name": "stdout",
     "output_type": "stream",
     "text": [
      "{'answer': '多发性神经炎多为功能性神经损害，治疗恢复在于及早的对受累神经进行充分的血供营养，同时兴奋激活神经，营养神经才能使恢复神经功能获得早日康复。提示，一但迟发缺血性神经变性病变。恢复无望而且病情还会加重。需指导请发病检资料为你指导。。。。目前比较科学的治疗方法是神经组织修复疗法，安全性好。与传统治疗相比，\"\"神经组织修复疗法\"\"治疗具有安全、无明显毒副作用的优点。',\n",
      " 'question': '周围性神经炎能治好吗？',\n",
      " 'similar_question': ['周围性神经炎有望治愈吗？',\n",
      "                      '周围性神经炎的治疗前景如何？',\n",
      "                      '是否存在治愈周围性神经炎的可能性？',\n",
      "                      '周围性神经炎能否完全康复？',\n",
      "                      '对于周围性神经炎，我们有治愈的希望吗？',\n",
      "                      '周围性神经炎的治愈概率有多大？',\n",
      "                      '周围性神经炎是否可以被彻底治好？',\n",
      "                      '在治疗周围性神经炎方面，我们能期待完全康复吗？',\n",
      "                      '周围性神经炎的治愈过程，是否意味着可以完全恢复？',\n",
      "                      '关于周围性神经炎，治疗后能否达到完全康复的状态？']}\n"
     ]
    }
   ],
   "source": [
    "from pprint import pprint\n",
    "import json\n",
    "\n",
    "with open(\"samples.jsonl\", \"r\", encoding=\"utf-8\") as f:\n",
    "    # 逐行读取\n",
    "    for line in f:\n",
    "        # 解析每行的数据，并追加到列表中\n",
    "        pprint(json.loads(line))\n",
    "        break"
   ]
  },
  {
   "cell_type": "code",
   "execution_count": null,
   "metadata": {
    "collapsed": false,
    "jupyter": {
     "outputs_hidden": false
    }
   },
   "outputs": [],
   "source": []
  }
 ],
 "metadata": {
  "kernelspec": {
   "display_name": "Python 3 (ipykernel)",
   "language": "python",
   "name": "python3"
  },
  "language_info": {
   "codemirror_mode": {
    "name": "ipython",
    "version": 3
   },
   "file_extension": ".py",
   "mimetype": "text/x-python",
   "name": "python",
   "nbconvert_exporter": "python",
   "pygments_lexer": "ipython3",
   "version": "3.11.8"
  }
 },
 "nbformat": 4,
 "nbformat_minor": 4
}
